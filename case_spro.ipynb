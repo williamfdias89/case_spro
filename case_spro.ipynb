{
 "cells": [
  {
   "cell_type": "markdown",
   "metadata": {},
   "source": [
    "Para o teste pratico, será necessário criar um script em python, onde irá conter dois pandas\n",
    "dataframe populados com os dados pré-definidos, esses dataframes deverão ser enviados e\n",
    "salvos em um banco de dados MongoDB, na sequência, deverá ser desenvolvido uma\n",
    "agregação onde unira essas duas collection de acordo com o campo informado.\n",
    "\n",
    "O início de teste se baseia em criar um arquivo em python contendo dois pandas dataframe, o\n",
    "primeiro onde será armazenado as informações do carro, e o segundo onde será armazenado\n",
    "as informações da montadora."
   ]
  },
  {
   "cell_type": "code",
   "execution_count": 22,
   "metadata": {},
   "outputs": [],
   "source": [
    "import pandas as pd\n",
    "\n",
    "carro = ['Onix','Polo','Sandreo','Fiesta','City']\n",
    "cor = ['Prata','Branco','Prata','Vermelho','Preto']\n",
    "montadora = ['Chevrolet', 'Volkswagen','Renault','Ford','Honda']\n",
    "pais = ['EUA','Alemanhã','França','EUA','Japão']\n",
    "\n",
    "##DataFrame com info de carros\n",
    "df_carros = pd.DataFrame(data = {'carro' : carro,\n",
    "                                'cor' : cor,\n",
    "                                'montadora': montadora})\n",
    "\n",
    "##dataFrame com info de fabricantes\n",
    "df_montadoras = pd.DataFrame(data = {'montadora': montadora,\n",
    "                                     'pais': pais})\n"
   ]
  },
  {
   "cell_type": "code",
   "execution_count": 23,
   "metadata": {},
   "outputs": [],
   "source": [
    "import pymongo\n",
    "from pymongo import MongoClient\n",
    "\n",
    "# conexão MongoDB \n",
    "cliente = MongoClient('localhost', 27017)\n",
    "\n",
    "# banco de dados\n",
    "db = cliente.case_spro\n",
    "\n",
    "# coleção\n",
    "colecao_carros = db.carros\n",
    "colecao_montadoras = db.montadoras\n"
   ]
  },
  {
   "cell_type": "code",
   "execution_count": 24,
   "metadata": {},
   "outputs": [],
   "source": [
    "# transformando os dfs em dicionários\n",
    "registros_carro = df_carros.to_dict(orient='records')\n",
    "registros_fabricante = df_montadoras.to_dict(orient='records')\n",
    "\n",
    "## inserindo os dados no banco\n",
    "result = colecao_carros.insert_many(registros_carro,)\n",
    "#print(f\"Inseridos com sucesso: {result.inserted_ids}\")\n",
    "\n",
    "result = colecao_montadoras.insert_many(registros_fabricante)\n",
    "#print(f\"Inseridos com sucesso: {result.inserted_ids}\")\n",
    "\n",
    "cliente.close()"
   ]
  },
  {
   "cell_type": "code",
   "execution_count": null,
   "metadata": {},
   "outputs": [],
   "source": []
  }
 ],
 "metadata": {
  "kernelspec": {
   "display_name": ".venv",
   "language": "python",
   "name": "python3"
  },
  "language_info": {
   "codemirror_mode": {
    "name": "ipython",
    "version": 3
   },
   "file_extension": ".py",
   "mimetype": "text/x-python",
   "name": "python",
   "nbconvert_exporter": "python",
   "pygments_lexer": "ipython3",
   "version": "3.9.6"
  }
 },
 "nbformat": 4,
 "nbformat_minor": 2
}
